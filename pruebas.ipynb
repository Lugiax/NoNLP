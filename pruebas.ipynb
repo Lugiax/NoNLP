{
 "cells": [
  {
   "cell_type": "code",
   "execution_count": 4,
   "id": "04ed5943",
   "metadata": {},
   "outputs": [
    {
     "data": {
      "text/plain": [
       "1640.0"
      ]
     },
     "execution_count": 4,
     "metadata": {},
     "output_type": "execute_result"
    }
   ],
   "source": [
    "import pandas as pd\n",
    "from listas import *\n",
    "df = pd.read_pickle('historico_palabras.pkl')"
   ]
  }
 ],
 "metadata": {
  "kernelspec": {
   "display_name": "Python 3 (ipykernel)",
   "language": "python",
   "name": "python3"
  },
  "language_info": {
   "codemirror_mode": {
    "name": "ipython",
    "version": 3
   },
   "file_extension": ".py",
   "mimetype": "text/x-python",
   "name": "python",
   "nbconvert_exporter": "python",
   "pygments_lexer": "ipython3",
   "version": "3.8.10"
  }
 },
 "nbformat": 4,
 "nbformat_minor": 5
}
